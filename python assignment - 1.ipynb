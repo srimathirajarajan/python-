{
 "cells": [
  {
   "cell_type": "markdown",
   "id": "88a919b1",
   "metadata": {},
   "source": [
    "DATE:4/07/2022                           ASSIGNMENT -I                                                   NAME:R.SRIMATHI\n",
    "                                                                                                          BRANCH:AI&DS"
   ]
  },
  {
   "cell_type": "markdown",
   "id": "988ca766",
   "metadata": {},
   "source": [
    "Q.1)Write a function called show_stars(rows). If rows are 5, it should print the following:\n",
    "*\n",
    "**\n",
    "***\n",
    "****\n",
    "*****"
   ]
  },
  {
   "cell_type": "code",
   "execution_count": 1,
   "id": "cdc0508c",
   "metadata": {},
   "outputs": [
    {
     "name": "stdout",
     "output_type": "stream",
     "text": [
      "enter the no.of rows:5\n",
      "the pyramid psttern of star at a given rows is: \n",
      "* \n",
      "\n",
      "* * \n",
      "\n",
      "* * * \n",
      "\n",
      "* * * * \n",
      "\n",
      "* * * * * \n",
      "\n"
     ]
    }
   ],
   "source": [
    "rows=int(input(\"enter the no.of rows:\"))\n",
    "print(\"the pyramid pattern of star at a given rows is: \")\n",
    "for i in range (rows):\n",
    "    for i in range(i+1):\n",
    "        print(\"*\",end=\" \")\n",
    "    print(\"\\n\")"
   ]
  },
  {
   "cell_type": "markdown",
   "id": "19573f14",
   "metadata": {},
   "source": [
    "Q-2)Write a program to remove characters from a string starting from zero up to n and return a new string."
   ]
  },
  {
   "cell_type": "code",
   "execution_count": 3,
   "id": "ce55a2bc",
   "metadata": {},
   "outputs": [
    {
     "name": "stdout",
     "output_type": "stream",
     "text": [
      "enter the string value: srimathi\n",
      "enter the nth term to remove from string: 3\n",
      "original value  srimathi\n",
      "the new string after removal is:   mathi\n"
     ]
    }
   ],
   "source": [
    "str=input(\"enter the string value: \")\n",
    "n=int(input(\"enter the nth term to remove from string: \"))\n",
    "print(\"original value \",str)\n",
    "new_str =  str.replace(str[:n],\" \")\n",
    "print(\"the new string after removal is: \",new_str)"
   ]
  },
  {
   "cell_type": "markdown",
   "id": "9f78c651",
   "metadata": {},
   "source": [
    "Q-3)Iterate the given list of numbers and print only those numbers which are divisible by 5"
   ]
  },
  {
   "cell_type": "code",
   "execution_count": null,
   "id": "8212ee9e",
   "metadata": {},
   "outputs": [],
   "source": [
    "list1 = []\n",
    "for i in range(5):\n",
    "    list1 = int(input(\"enter the elements: \"))\n",
    "    list1.append(num)\n",
    "for i in list1:\n",
    "    if i % 5 == 0:\n",
    "        print(i)"
   ]
  },
  {
   "cell_type": "markdown",
   "id": "6c6ce6bf",
   "metadata": {},
   "source": [
    "Q-4)Write a program to find how many times substring “Hi” appears in the given string.    "
   ]
  },
  {
   "cell_type": "code",
   "execution_count": 73,
   "id": "878675ad",
   "metadata": {},
   "outputs": [
    {
     "name": "stdout",
     "output_type": "stream",
     "text": [
      "1\n"
     ]
    }
   ],
   "source": [
    "string = 'Hi guys,this is srimathi'\n",
    "sub_string = 'Hi'\n",
    "results = 0\n",
    "sub_len = len(sub_string)\n",
    "for i in range(len(string)):\n",
    "    if string[i:i+sub_len] == sub_string:\n",
    "        results += 1\n",
    "print (results)"
   ]
  },
  {
   "cell_type": "markdown",
   "id": "a42bd29a",
   "metadata": {},
   "source": [
    "Q-5)Print the following pattern\n",
    "1 \n",
    "2 2 \n",
    "3 3 3 \n",
    "4 4 4 4 \n",
    "5 5 5 5 5"
   ]
  },
  {
   "cell_type": "code",
   "execution_count": 1,
   "id": "f11eb3e8",
   "metadata": {},
   "outputs": [
    {
     "name": "stdout",
     "output_type": "stream",
     "text": [
      "enter the no.of rows: 5\n",
      "\n",
      "\n",
      "1 \n",
      "\n",
      "2 2 \n",
      "\n",
      "3 3 3 \n",
      "\n",
      "4 4 4 4 \n",
      "\n",
      "5 5 5 5 5 \n",
      "\n"
     ]
    }
   ],
   "source": [
    "n =  int(input(\"enter the no.of rows: \"))\n",
    "for i in range (n+1):\n",
    "    for j in range (1,i+1):\n",
    "        print(i,end=\" \")\n",
    "    print(\"\\n\")"
   ]
  },
  {
   "cell_type": "markdown",
   "id": "645043c0",
   "metadata": {},
   "source": [
    "                                                        TOPIC-LIST"
   ]
  },
  {
   "cell_type": "markdown",
   "id": "058efaf6",
   "metadata": {},
   "source": [
    "q-6)Python program to interchange first and last elements in a list"
   ]
  },
  {
   "cell_type": "code",
   "execution_count": 8,
   "id": "32b2c996",
   "metadata": {},
   "outputs": [
    {
     "name": "stdout",
     "output_type": "stream",
     "text": [
      "elements before swapping\n",
      "[10, 14, 5, 9, 56, 12]\n",
      "elements after swapping\n",
      "[12, 14, 5, 9, 56, 10]\n"
     ]
    }
   ],
   "source": [
    "def swapList(sl):\n",
    "    n = len(sl) \n",
    "    temp = sl[0]\n",
    "    sl[0] = sl[n - 1]\n",
    "    sl[n - 1] = temp\n",
    "    return sl\n",
    "print(\"elements before swapping\")\n",
    "l = [10, 14, 5, 9, 56, 12]\n",
    "print(l)\n",
    "print(\"elements after swapping\")\n",
    "print(swapList(l))"
   ]
  },
  {
   "cell_type": "markdown",
   "id": "436e59d2",
   "metadata": {},
   "source": [
    "Q-7)Python program to swap two elements in a list"
   ]
  },
  {
   "cell_type": "code",
   "execution_count": 71,
   "id": "e28a48f3",
   "metadata": {},
   "outputs": [
    {
     "name": "stdout",
     "output_type": "stream",
     "text": [
      "[19, 65, 23, 90]\n"
     ]
    }
   ],
   "source": [
    "def swapPositions(list, pos1, pos2):\n",
    "    list[pos1], list[pos2] = list[pos2], list[pos1]\n",
    "    return list\n",
    "List = [23, 65, 19, 90]\n",
    "pos1, pos2  = 1, 3\n",
    "print(swapPositions(List, pos1-1, pos2-1))\n"
   ]
  },
  {
   "cell_type": "markdown",
   "id": "baa5dedd",
   "metadata": {},
   "source": [
    "Q-8)Python | Ways to find length of list"
   ]
  },
  {
   "cell_type": "code",
   "execution_count": 12,
   "id": "8805a43b",
   "metadata": {},
   "outputs": [
    {
     "name": "stdout",
     "output_type": "stream",
     "text": [
      "13\n"
     ]
    }
   ],
   "source": [
    "list = [1,2,3,4,5,6,87,89,9,4,\"sri\",\"mathi\",\"@gmail\"]\n",
    "print(len(list))"
   ]
  },
  {
   "cell_type": "code",
   "execution_count": 13,
   "id": "ec3269c6",
   "metadata": {},
   "outputs": [
    {
     "name": "stdout",
     "output_type": "stream",
     "text": [
      "the number of elements in string :  7\n"
     ]
    }
   ],
   "source": [
    "list1 = [\"srimathi\",\"mega\",1,75,86,67,\"leo\"]\n",
    "print(\"the number of elements in string : \",len(list1))"
   ]
  },
  {
   "cell_type": "markdown",
   "id": "c7c0a60f",
   "metadata": {},
   "source": [
    "Q-9)Maximum of two numbers in Python"
   ]
  },
  {
   "cell_type": "code",
   "execution_count": 18,
   "id": "83c67138",
   "metadata": {},
   "outputs": [
    {
     "name": "stdout",
     "output_type": "stream",
     "text": [
      "564\n"
     ]
    }
   ],
   "source": [
    "list1=[256,564,78,56,23]\n",
    "print(max(list1,key =lambda value: int(value)) )"
   ]
  },
  {
   "cell_type": "markdown",
   "id": "956c50ef",
   "metadata": {},
   "source": [
    "Q-10)Minimum of two numbers in Python"
   ]
  },
  {
   "cell_type": "code",
   "execution_count": 19,
   "id": "15a253f6",
   "metadata": {},
   "outputs": [
    {
     "name": "stdout",
     "output_type": "stream",
     "text": [
      "256\n"
     ]
    }
   ],
   "source": [
    "valuesList = [256,564,624,324,763,]\n",
    "\n",
    "print(min(valuesList, key=lambda value: int(value)) )\n"
   ]
  },
  {
   "cell_type": "markdown",
   "id": "3ea69cc9",
   "metadata": {},
   "source": [
    "                                                TOPIC:STRING"
   ]
  },
  {
   "cell_type": "markdown",
   "id": "3e74837b",
   "metadata": {},
   "source": [
    "Q-11)Python program to check whether the string is Symmetrical or Palindrome"
   ]
  },
  {
   "cell_type": "code",
   "execution_count": 5,
   "id": "673926a0",
   "metadata": {},
   "outputs": [
    {
     "name": "stdout",
     "output_type": "stream",
     "text": [
      "enter the number: 234\n",
      "the number is not palindrome\n"
     ]
    }
   ],
   "source": [
    "num = int(input(\"enter the number: \"))\n",
    "temp =  num\n",
    "rev = 0\n",
    "while (num>0):\n",
    "    digit = num%10\n",
    "    rev =  rev*10+digit\n",
    "    num = num//10\n",
    "if (temp == rev):\n",
    "    print(\"the number is palindrome: \" ,format(temp))\n",
    "else:\n",
    "    print(\"the number is not palindrome\")"
   ]
  },
  {
   "cell_type": "markdown",
   "id": "714425bf",
   "metadata": {},
   "source": [
    "Q-12)Reverse words in a given String in Python"
   ]
  },
  {
   "cell_type": "code",
   "execution_count": 27,
   "id": "c8846b02",
   "metadata": {},
   "outputs": [
    {
     "name": "stdout",
     "output_type": "stream",
     "text": [
      "srimathi hi\n"
     ]
    }
   ],
   "source": [
    "string = \"hi guys,this is srimathi\"\n",
    "s = string.split()[::-3]\n",
    "l = []\n",
    "for i in s:\n",
    "    l.append(i)\n",
    "print(\" \".join(l))"
   ]
  },
  {
   "cell_type": "markdown",
   "id": "a3fe09a4",
   "metadata": {},
   "source": [
    "Q-13)Ways to remove i’th character from string in Python"
   ]
  },
  {
   "cell_type": "code",
   "execution_count": 33,
   "id": "6a8b607e",
   "metadata": {},
   "outputs": [
    {
     "name": "stdout",
     "output_type": "stream",
     "text": [
      "The original string is : srimathi\n",
      "The string after removal of i'th character : srimath\n"
     ]
    }
   ],
   "source": [
    "str = \"srimathi\"\n",
    "print (\"The original string is : \" + str)\n",
    "str1 = \"\"\n",
    "  \n",
    "for i in range(len(str)):\n",
    "    if i != 7:\n",
    "        str1 = str1 + str[i]\n",
    "print (\"The string after removal of i'th character : \" + str1)"
   ]
  },
  {
   "cell_type": "markdown",
   "id": "ed5e1dd0",
   "metadata": {},
   "source": [
    "                                               TOPIC:TUPLE"
   ]
  },
  {
   "cell_type": "markdown",
   "id": "28e2ab90",
   "metadata": {},
   "source": [
    "Q-14)Python program to Find the size of a Tuple"
   ]
  },
  {
   "cell_type": "code",
   "execution_count": 34,
   "id": "164bf251",
   "metadata": {},
   "outputs": [
    {
     "name": "stdout",
     "output_type": "stream",
     "text": [
      "6\n",
      "5\n",
      "4\n"
     ]
    }
   ],
   "source": [
    "Tuple1 = (\"A\", 1, \"B\", 2, \"C\", 3)\n",
    "Tuple2=(\"sri\",1,56,86,\"mathi\")\n",
    "Tuple3 = ((1, \"sri\"), ( 2, \"mathi\"), (3, \"mega\"), (4, \"loshini\"))\n",
    "print(len(Tuple1))\n",
    "print(len(Tuple2))\n",
    "print(len(Tuple3))\n"
   ]
  },
  {
   "cell_type": "markdown",
   "id": "4b74b0d7",
   "metadata": {},
   "source": [
    "Q-15)Python – Maximum and Minimum K elements in Tuple"
   ]
  },
  {
   "cell_type": "code",
   "execution_count": 76,
   "id": "6ac32d13",
   "metadata": {},
   "outputs": [
    {
     "name": "stdout",
     "output_type": "stream",
     "text": [
      "The tuple is : \n",
      "(98, 99, 0, 9, 10, 8)\n",
      "The value of K has been initialized to \n",
      "2\n"
     ]
    },
    {
     "ename": "TypeError",
     "evalue": "'list' object is not callable",
     "output_type": "error",
     "traceback": [
      "\u001b[1;31m---------------------------------------------------------------------------\u001b[0m",
      "\u001b[1;31mTypeError\u001b[0m                                 Traceback (most recent call last)",
      "Input \u001b[1;32mIn [76]\u001b[0m, in \u001b[0;36m<cell line: 10>\u001b[1;34m()\u001b[0m\n\u001b[0;32m      8\u001b[0m \u001b[38;5;28mprint\u001b[39m(K)\n\u001b[0;32m      9\u001b[0m my_result \u001b[38;5;241m=\u001b[39m []\n\u001b[1;32m---> 10\u001b[0m sample_typle \u001b[38;5;241m=\u001b[39m \u001b[38;5;28;43mlist\u001b[39;49m\u001b[43m(\u001b[49m\u001b[43msample_tuple\u001b[49m\u001b[43m)\u001b[49m\n\u001b[0;32m     11\u001b[0m temp \u001b[38;5;241m=\u001b[39m \u001b[38;5;28msorted\u001b[39m(sample_tuple)\n\u001b[0;32m     13\u001b[0m \u001b[38;5;28;01mfor\u001b[39;00m idx, val \u001b[38;5;129;01min\u001b[39;00m \u001b[38;5;28menumerate\u001b[39m(temp):\n",
      "\u001b[1;31mTypeError\u001b[0m: 'list' object is not callable"
     ]
    }
   ],
   "source": [
    "sample_tuple = (98, 99, 0, 9, 10, 8)\n",
    "\n",
    "print(\"The tuple is : \")\n",
    "print(sample_tuple)\n",
    "\n",
    "K = 2\n",
    "print(\"The value of K has been initialized to \")\n",
    "print(K)\n",
    "my_result = []\n",
    "sample_typle = list(sample_tuple)\n",
    "temp = sorted(sample_tuple)\n",
    "\n",
    "for idx, val in enumerate(temp):\n",
    "   if idx < K or idx >= len(temp) - K:\n",
    "      my_result.append(val)\n",
    "my_result = tuple(my_result)\n",
    "\n",
    "print(\"The result is : \" )\n",
    "print(my_result)"
   ]
  },
  {
   "cell_type": "markdown",
   "id": "70d99ac8",
   "metadata": {},
   "source": [
    "Q-16)Python – Sum of tuple elements"
   ]
  },
  {
   "cell_type": "code",
   "execution_count": 39,
   "id": "76d17cbc",
   "metadata": {},
   "outputs": [
    {
     "name": "stdout",
     "output_type": "stream",
     "text": [
      "Tuple elements are =  (22, 68, 96, 28, 34)\n",
      "The Sum of numTuple Tuple Items =  248\n"
     ]
    }
   ],
   "source": [
    "Tuple1 = (22,68,96,28,34)\n",
    "print(\"Tuple elements are = \", Tuple1)\n",
    "\n",
    "Tuplesum = sum(Tuple1)\n",
    "print(\"The Sum of numTuple Tuple Items = \", Tuplesum)"
   ]
  },
  {
   "cell_type": "markdown",
   "id": "b2174d9d",
   "metadata": {},
   "source": [
    "                                        TOPIC:DICTIONARY"
   ]
  },
  {
   "cell_type": "markdown",
   "id": "ffd53f97",
   "metadata": {},
   "source": [
    "Q-17)Python | Sort Python Dictionaries by Key or Value"
   ]
  },
  {
   "cell_type": "code",
   "execution_count": 78,
   "id": "664fc378",
   "metadata": {},
   "outputs": [
    {
     "name": "stdout",
     "output_type": "stream",
     "text": [
      "Sorted keys [1, 3, 4, 6, 8, 9]\n",
      "Sorted Values [(1, 'aishwarya'), (3, 'mega'), (4, 'surendar'), (6, 'vishali'), (8, 'kevin'), (9, 'siva')]\n"
     ]
    }
   ],
   "source": [
    "dict = {3:'mega' ,6:'vishali' ,4:'surendar' ,8:'kevin' ,1:'aishwarya' ,9:'siva' }  \n",
    " \n",
    "key_sort= sorted(dict.keys())\n",
    "print(\"Sorted keys\",key_sort)  \n",
    "  \n",
    "value_sort= sorted(dict.items())\n",
    "print(\"Sorted Values\",value_sort)  "
   ]
  },
  {
   "cell_type": "markdown",
   "id": "7922d4aa",
   "metadata": {},
   "source": [
    "Q-18)Python dictionary with keys having multiple inputs"
   ]
  },
  {
   "cell_type": "code",
   "execution_count": 41,
   "id": "5d2e607e",
   "metadata": {},
   "outputs": [
    {
     "name": "stdout",
     "output_type": "stream",
     "text": [
      "The dictionary is :\n",
      "{(15, 26, 38): 3, (5, 4, 11): -2}\n"
     ]
    }
   ],
   "source": [
    "my_dict = {}\n",
    "a, b, c = 15, 26, 38\n",
    "my_dict[a, b, c] = a + b - c\n",
    "a, b, c = 5, 4, 11\n",
    "my_dict[a, b, c] = a + b - c\n",
    "print(\"The dictionary is :\")\n",
    "print(my_dict)"
   ]
  },
  {
   "cell_type": "markdown",
   "id": "a2a8031e",
   "metadata": {},
   "source": [
    "                                              TOPIC:SET "
   ]
  },
  {
   "cell_type": "markdown",
   "id": "9f1713b9",
   "metadata": {},
   "source": [
    "Q-19)Find the size of a Set in Python"
   ]
  },
  {
   "cell_type": "code",
   "execution_count": 42,
   "id": "e31c5576",
   "metadata": {},
   "outputs": [
    {
     "name": "stdout",
     "output_type": "stream",
     "text": [
      "The length of set is: 5\n"
     ]
    }
   ],
   "source": [
    "n = len({1, 2, 3, 4, 5})\n",
    "  \n",
    "print(\"The length of set is:\", n)"
   ]
  },
  {
   "cell_type": "markdown",
   "id": "93df1f07",
   "metadata": {},
   "source": [
    "Q-20)Iterate over a set in Python"
   ]
  },
  {
   "cell_type": "code",
   "execution_count": 46,
   "id": "125a71d5",
   "metadata": {},
   "outputs": [
    {
     "name": "stdout",
     "output_type": "stream",
     "text": [
      "S\n",
      "r\n",
      "i\n",
      "M\n",
      "a\n",
      "T\n",
      "h\n",
      "i\n"
     ]
    }
   ],
   "source": [
    "str = \"SriMaThi\"\n",
    "for val in str:\n",
    "    print(val)"
   ]
  },
  {
   "cell_type": "markdown",
   "id": "a96867d7",
   "metadata": {},
   "source": [
    "                                                    TOPIC:MATRIX"
   ]
  },
  {
   "cell_type": "markdown",
   "id": "dba9e5c5",
   "metadata": {},
   "source": [
    "Q-21)Python – Assigning Subsequent Rows to Matrix first row elements"
   ]
  },
  {
   "cell_type": "code",
   "execution_count": 87,
   "id": "ca4e6647",
   "metadata": {},
   "outputs": [
    {
     "ename": "TypeError",
     "evalue": "'str' object is not callable",
     "output_type": "error",
     "traceback": [
      "\u001b[1;31m---------------------------------------------------------------------------\u001b[0m",
      "\u001b[1;31mTypeError\u001b[0m                                 Traceback (most recent call last)",
      "Input \u001b[1;32mIn [87]\u001b[0m, in \u001b[0;36m<cell line: 4>\u001b[1;34m()\u001b[0m\n\u001b[0;32m      1\u001b[0m trial_list \u001b[38;5;241m=\u001b[39m [[\u001b[38;5;241m5\u001b[39m, \u001b[38;5;241m0\u001b[39m, \u001b[38;5;241m99\u001b[39m], [\u001b[38;5;241m2\u001b[39m, \u001b[38;5;241m6\u001b[39m, \u001b[38;5;241m9\u001b[39m], [\u001b[38;5;241m7\u001b[39m, \u001b[38;5;241m4\u001b[39m, \u001b[38;5;241m2\u001b[39m], [\u001b[38;5;241m0\u001b[39m, \u001b[38;5;241m3\u001b[39m, \u001b[38;5;241m9\u001b[39m]]\n\u001b[0;32m      3\u001b[0m \u001b[38;5;66;03m# printing original list\u001b[39;00m\n\u001b[1;32m----> 4\u001b[0m \u001b[38;5;28mprint\u001b[39m(\u001b[38;5;124m\"\u001b[39m\u001b[38;5;124mThe original list : \u001b[39m\u001b[38;5;124m\"\u001b[39m , \u001b[38;5;28;43mstr\u001b[39;49m\u001b[43m(\u001b[49m\u001b[43mtrial_list\u001b[49m\u001b[43m)\u001b[49m)\n\u001b[0;32m      6\u001b[0m \u001b[38;5;66;03m# pairing each 1st col with next rows in Matrix\u001b[39;00m\n\u001b[0;32m      7\u001b[0m res \u001b[38;5;241m=\u001b[39m {trial_list[\u001b[38;5;241m0\u001b[39m][ele] :  trial_list[ele \u001b[38;5;241m+\u001b[39m \u001b[38;5;241m1\u001b[39m] \u001b[38;5;28;01mfor\u001b[39;00m ele \u001b[38;5;129;01min\u001b[39;00m \u001b[38;5;28mrange\u001b[39m(\u001b[38;5;28mlen\u001b[39m(trial_list) \u001b[38;5;241m-\u001b[39m \u001b[38;5;241m1\u001b[39m)}\n",
      "\u001b[1;31mTypeError\u001b[0m: 'str' object is not callable"
     ]
    }
   ],
   "source": [
    "trial_list = [[5, 0, 99], [2, 6, 9], [7, 4, 2], [0, 3, 9]]\n",
    "  \n",
    "# printing original list\n",
    "print(\"The original list : \" , str(trial_list))\n",
    "  \n",
    "# pairing each 1st col with next rows in Matrix\n",
    "res = {trial_list[0][ele] :  trial_list[ele + 1] for ele in range(len(trial_list) - 1)}\n",
    "  \n",
    "# printing result \n",
    "print(\"The Assigned Matrix : \" , str(res))"
   ]
  },
  {
   "cell_type": "markdown",
   "id": "08d8382c",
   "metadata": {},
   "source": [
    "Q-22)Adding and Subtracting Matrices in Python"
   ]
  },
  {
   "cell_type": "code",
   "execution_count": 61,
   "id": "cfd66638",
   "metadata": {},
   "outputs": [
    {
     "name": "stdout",
     "output_type": "stream",
     "text": [
      "Printing elements of first matrix\n",
      "[[1 2]\n",
      " [3 4]]\n",
      "Printing elements of second matrix\n",
      "[[4 5]\n",
      " [6 7]]\n",
      "Addition of two matrix\n",
      "[[ 5  7]\n",
      " [ 9 11]]\n",
      "subtraction of two matrix\n",
      "[[-3 -3]\n",
      " [-3 -3]]\n"
     ]
    }
   ],
   "source": [
    "import numpy as np\n",
    "A = np.array([[1, 2], [3, 4]])\n",
    "B = np.array([[4, 5], [6, 7]])\n",
    "print(\"Printing elements of first matrix\")\n",
    "print(A)\n",
    "print(\"Printing elements of second matrix\")\n",
    "print(B)\n",
    "print(\"Addition of two matrix\")\n",
    "print(np.add(A, B))\n",
    "print(\"subtraction of two matrix\")\n",
    "print(np.subtract(A,B))"
   ]
  },
  {
   "cell_type": "markdown",
   "id": "2e16c2d9",
   "metadata": {},
   "source": [
    "                                            TOPIC:FUNCTIONS"
   ]
  },
  {
   "cell_type": "markdown",
   "id": "b82b7735",
   "metadata": {},
   "source": [
    "Q-23)How to get list of parameters name from a function in Python?"
   ]
  },
  {
   "cell_type": "code",
   "execution_count": 62,
   "id": "b0c5ef1b",
   "metadata": {},
   "outputs": [],
   "source": [
    "import inspect\n",
    "import collections"
   ]
  },
  {
   "cell_type": "code",
   "execution_count": 63,
   "id": "479ca367",
   "metadata": {},
   "outputs": [
    {
     "name": "stdout",
     "output_type": "stream",
     "text": [
      "(iterable=None, /, **kwds)\n"
     ]
    }
   ],
   "source": [
    "print(inspect.signature(collections.Counter))"
   ]
  },
  {
   "cell_type": "code",
   "execution_count": 64,
   "id": "181c9ea6",
   "metadata": {},
   "outputs": [
    {
     "name": "stdout",
     "output_type": "stream",
     "text": [
      "(a, b)\n"
     ]
    }
   ],
   "source": [
    "def fun(a, b):\n",
    "    return a**b \n",
    "import inspect \n",
    "print(inspect.signature(fun)) "
   ]
  },
  {
   "cell_type": "code",
   "execution_count": 66,
   "id": "e7d9330c",
   "metadata": {},
   "outputs": [],
   "source": [
    "import inspect\n",
    "import collections"
   ]
  },
  {
   "cell_type": "code",
   "execution_count": 67,
   "id": "395e4363",
   "metadata": {},
   "outputs": [
    {
     "name": "stdout",
     "output_type": "stream",
     "text": [
      "ArgSpec(args=['self', 'iterable'], varargs=None, keywords='kwds', defaults=(None,))\n"
     ]
    },
    {
     "name": "stderr",
     "output_type": "stream",
     "text": [
      "C:\\Users\\Srimathi\\AppData\\Local\\Temp\\ipykernel_5196\\2364366472.py:1: DeprecationWarning: inspect.getargspec() is deprecated since Python 3.0, use inspect.signature() or inspect.getfullargspec()\n",
      "  print(inspect.getargspec(collections.Counter))\n"
     ]
    }
   ],
   "source": [
    "print(inspect.getargspec(collections.Counter))"
   ]
  },
  {
   "cell_type": "code",
   "execution_count": 68,
   "id": "86f49796",
   "metadata": {},
   "outputs": [
    {
     "name": "stdout",
     "output_type": "stream",
     "text": [
      "ArgSpec(args=['a', 'b'], varargs=None, keywords=None, defaults=None)\n"
     ]
    },
    {
     "name": "stderr",
     "output_type": "stream",
     "text": [
      "C:\\Users\\Srimathi\\AppData\\Local\\Temp\\ipykernel_5196\\832359272.py:4: DeprecationWarning: inspect.getargspec() is deprecated since Python 3.0, use inspect.signature() or inspect.getfullargspec()\n",
      "  print(inspect.getargspec(fun))\n"
     ]
    }
   ],
   "source": [
    "def fun(a, b):\n",
    "    return a**b \n",
    "import inspect \n",
    "print(inspect.getargspec(fun)) "
   ]
  },
  {
   "cell_type": "markdown",
   "id": "69b135d2",
   "metadata": {},
   "source": [
    "Q-24)How to Print Multiple Arguments in Python?"
   ]
  },
  {
   "cell_type": "code",
   "execution_count": 69,
   "id": "5d7b2a13",
   "metadata": {},
   "outputs": [
    {
     "name": "stdout",
     "output_type": "stream",
     "text": [
      "Hello from  srimathi, 17\n"
     ]
    }
   ],
   "source": [
    "def func(name, num):\n",
    "    print(\"Hello from \", name + ', ' + num)\n",
    "  \n",
    "  \n",
    "func(\"srimathi\", \"17\")"
   ]
  },
  {
   "cell_type": "code",
   "execution_count": null,
   "id": "d6b8986b",
   "metadata": {},
   "outputs": [],
   "source": []
  }
 ],
 "metadata": {
  "kernelspec": {
   "display_name": "Python 3 (ipykernel)",
   "language": "python",
   "name": "python3"
  },
  "language_info": {
   "codemirror_mode": {
    "name": "ipython",
    "version": 3
   },
   "file_extension": ".py",
   "mimetype": "text/x-python",
   "name": "python",
   "nbconvert_exporter": "python",
   "pygments_lexer": "ipython3",
   "version": "3.9.12"
  }
 },
 "nbformat": 4,
 "nbformat_minor": 5
}
