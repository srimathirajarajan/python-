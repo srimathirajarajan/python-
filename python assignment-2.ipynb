{
 "cells": [
  {
   "cell_type": "markdown",
   "id": "784dbc9e",
   "metadata": {},
   "source": [
    "date:24-07-2022                                 python assignment-2                                  R.SRIMATHI-AI&DS"
   ]
  },
  {
   "cell_type": "markdown",
   "id": "8a5861c0",
   "metadata": {},
   "source": [
    "1.inheritance"
   ]
  },
  {
   "cell_type": "code",
   "execution_count": 113,
   "id": "8455a08d",
   "metadata": {},
   "outputs": [],
   "source": [
    "class Parent(object):\n",
    "    def _protected(self):\n",
    "        pass\n",
    "\n",
    "    def __private(self):\n",
    "        pass\n",
    "\n",
    "class Child(Parent):\n",
    "    def foo(self):\n",
    "        self._protected()   \n",
    "\n",
    "    def bar(self):\n",
    "        self.__private()"
   ]
  },
  {
   "cell_type": "code",
   "execution_count": 114,
   "id": "eef38596",
   "metadata": {},
   "outputs": [],
   "source": [
    "class Child(Parent):\n",
    "    def foo(self):\n",
    "        self._protected()\n",
    "\n",
    "    def bar(self):\n",
    "        self._Parent__private()\n"
   ]
  },
  {
   "cell_type": "code",
   "execution_count": 115,
   "id": "1e6a8d5e",
   "metadata": {},
   "outputs": [
    {
     "name": "stdout",
     "output_type": "stream",
     "text": [
      "Is it really private?\n"
     ]
    }
   ],
   "source": [
    "class Parent(object):\n",
    "    def _protected(self):\n",
    "        pass\n",
    "\n",
    "    def __private(self):\n",
    "        print(\"Is it really private?\")\n",
    "\n",
    "class Child(Parent):\n",
    "    def foo(self):\n",
    "        self._protected()\n",
    "\n",
    "    def bar(self):\n",
    "        self.__private()\n",
    "\n",
    "c = Child()\n",
    "c._Parent__private()"
   ]
  },
  {
   "cell_type": "markdown",
   "id": "8dcffbbd",
   "metadata": {},
   "source": [
    "exception handling"
   ]
  },
  {
   "cell_type": "code",
   "execution_count": 105,
   "id": "d084553f",
   "metadata": {},
   "outputs": [
    {
     "ename": "SyntaxError",
     "evalue": "Missing parentheses in call to 'print'. Did you mean print(\"hello\")? (2253489653.py, line 1)",
     "output_type": "error",
     "traceback": [
      "\u001b[1;36m  Input \u001b[1;32mIn [105]\u001b[1;36m\u001b[0m\n\u001b[1;33m    print \"hello\"\u001b[0m\n\u001b[1;37m          ^\u001b[0m\n\u001b[1;31mSyntaxError\u001b[0m\u001b[1;31m:\u001b[0m Missing parentheses in call to 'print'. Did you mean print(\"hello\")?\n"
     ]
    }
   ],
   "source": [
    "print \"hello\""
   ]
  },
  {
   "cell_type": "code",
   "execution_count": 106,
   "id": "2cbbb0f9",
   "metadata": {},
   "outputs": [
    {
     "ename": "IndexError",
     "evalue": "list index out of range",
     "output_type": "error",
     "traceback": [
      "\u001b[1;31m---------------------------------------------------------------------------\u001b[0m",
      "\u001b[1;31mIndexError\u001b[0m                                Traceback (most recent call last)",
      "Input \u001b[1;32mIn [106]\u001b[0m, in \u001b[0;36m<cell line: 2>\u001b[1;34m()\u001b[0m\n\u001b[0;32m      1\u001b[0m a \u001b[38;5;241m=\u001b[39m [\u001b[38;5;241m1\u001b[39m,\u001b[38;5;241m2\u001b[39m,\u001b[38;5;241m3\u001b[39m]\n\u001b[1;32m----> 2\u001b[0m \u001b[43ma\u001b[49m\u001b[43m[\u001b[49m\u001b[38;5;241;43m4\u001b[39;49m\u001b[43m]\u001b[49m\n",
      "\u001b[1;31mIndexError\u001b[0m: list index out of range"
     ]
    }
   ],
   "source": [
    "a = [1,2,3]\n",
    "a[4]"
   ]
  },
  {
   "cell_type": "code",
   "execution_count": 107,
   "id": "89291356",
   "metadata": {},
   "outputs": [
    {
     "ename": "ModuleNotFoundError",
     "evalue": "No module named 'notamodule'",
     "output_type": "error",
     "traceback": [
      "\u001b[1;31m---------------------------------------------------------------------------\u001b[0m",
      "\u001b[1;31mModuleNotFoundError\u001b[0m                       Traceback (most recent call last)",
      "Input \u001b[1;32mIn [107]\u001b[0m, in \u001b[0;36m<cell line: 1>\u001b[1;34m()\u001b[0m\n\u001b[1;32m----> 1\u001b[0m \u001b[38;5;28;01mimport\u001b[39;00m \u001b[38;5;21;01mnotamodule\u001b[39;00m\n",
      "\u001b[1;31mModuleNotFoundError\u001b[0m: No module named 'notamodule'"
     ]
    }
   ],
   "source": [
    "import notamodule"
   ]
  },
  {
   "cell_type": "code",
   "execution_count": 108,
   "id": "f7442e6a",
   "metadata": {},
   "outputs": [
    {
     "ename": "KeyError",
     "evalue": "'4'",
     "output_type": "error",
     "traceback": [
      "\u001b[1;31m---------------------------------------------------------------------------\u001b[0m",
      "\u001b[1;31mKeyError\u001b[0m                                  Traceback (most recent call last)",
      "Input \u001b[1;32mIn [108]\u001b[0m, in \u001b[0;36m<cell line: 2>\u001b[1;34m()\u001b[0m\n\u001b[0;32m      1\u001b[0m D1\u001b[38;5;241m=\u001b[39m{\u001b[38;5;124m'\u001b[39m\u001b[38;5;124m1\u001b[39m\u001b[38;5;124m'\u001b[39m:\u001b[38;5;124m\"\u001b[39m\u001b[38;5;124maa\u001b[39m\u001b[38;5;124m\"\u001b[39m, \u001b[38;5;124m'\u001b[39m\u001b[38;5;124m2\u001b[39m\u001b[38;5;124m'\u001b[39m:\u001b[38;5;124m\"\u001b[39m\u001b[38;5;124mbb\u001b[39m\u001b[38;5;124m\"\u001b[39m, \u001b[38;5;124m'\u001b[39m\u001b[38;5;124m3\u001b[39m\u001b[38;5;124m'\u001b[39m:\u001b[38;5;124m\"\u001b[39m\u001b[38;5;124mcc\u001b[39m\u001b[38;5;124m\"\u001b[39m}\n\u001b[1;32m----> 2\u001b[0m \u001b[43mD1\u001b[49m\u001b[43m[\u001b[49m\u001b[38;5;124;43m'\u001b[39;49m\u001b[38;5;124;43m4\u001b[39;49m\u001b[38;5;124;43m'\u001b[39;49m\u001b[43m]\u001b[49m\n",
      "\u001b[1;31mKeyError\u001b[0m: '4'"
     ]
    }
   ],
   "source": [
    "D1={'1':\"aa\", '2':\"bb\", '3':\"cc\"}\n",
    "D1['4']"
   ]
  },
  {
   "cell_type": "code",
   "execution_count": 109,
   "id": "1c2c9632",
   "metadata": {},
   "outputs": [
    {
     "ename": "ZeroDivisionError",
     "evalue": "division by zero",
     "output_type": "error",
     "traceback": [
      "\u001b[1;31m---------------------------------------------------------------------------\u001b[0m",
      "\u001b[1;31mZeroDivisionError\u001b[0m                         Traceback (most recent call last)",
      "Input \u001b[1;32mIn [109]\u001b[0m, in \u001b[0;36m<cell line: 1>\u001b[1;34m()\u001b[0m\n\u001b[1;32m----> 1\u001b[0m x\u001b[38;5;241m=\u001b[39m\u001b[38;5;241;43m100\u001b[39;49m\u001b[38;5;241;43m/\u001b[39;49m\u001b[38;5;241;43m0\u001b[39;49m\n\u001b[0;32m      2\u001b[0m x\n",
      "\u001b[1;31mZeroDivisionError\u001b[0m: division by zero"
     ]
    }
   ],
   "source": [
    "x=100/0\n",
    "x"
   ]
  },
  {
   "cell_type": "code",
   "execution_count": 110,
   "id": "33d68395",
   "metadata": {},
   "outputs": [
    {
     "ename": "SyntaxError",
     "evalue": "invalid syntax (447927798.py, line 2)",
     "output_type": "error",
     "traceback": [
      "\u001b[1;36m  Input \u001b[1;32mIn [110]\u001b[1;36m\u001b[0m\n\u001b[1;33m    enter your name^c\u001b[0m\n\u001b[1;37m          ^\u001b[0m\n\u001b[1;31mSyntaxError\u001b[0m\u001b[1;31m:\u001b[0m invalid syntax\n"
     ]
    }
   ],
   "source": [
    "name=input('enter your name')\n",
    "enter your name^c"
   ]
  },
  {
   "cell_type": "code",
   "execution_count": 111,
   "id": "f8919739",
   "metadata": {},
   "outputs": [
    {
     "name": "stdout",
     "output_type": "stream",
     "text": [
      "divison\n",
      "an error occurs\n",
      "division done\n"
     ]
    }
   ],
   "source": [
    "try:\n",
    "     print(\"divison\")\n",
    "     print(1 / 0)\n",
    "except:\n",
    "     print(\"an error occurs\")\n",
    "finally:\n",
    "     print(\"division done\")"
   ]
  },
  {
   "cell_type": "code",
   "execution_count": 112,
   "id": "355062ef",
   "metadata": {},
   "outputs": [
    {
     "name": "stdout",
     "output_type": "stream",
     "text": [
      "please add money in your account\n"
     ]
    }
   ],
   "source": [
    "try:\n",
    "    amount = 1999\n",
    "    if amount < 2999:\n",
    "          \n",
    "        raise ValueError(\"please add money in your account\")\n",
    "    else:\n",
    "        print(\"You are eligible\")\n",
    "except ValueError as e:\n",
    "        print(e)"
   ]
  },
  {
   "cell_type": "markdown",
   "id": "926ef74d",
   "metadata": {},
   "source": [
    "3.Regular expression"
   ]
  },
  {
   "cell_type": "code",
   "execution_count": 102,
   "id": "157f0e99",
   "metadata": {},
   "outputs": [],
   "source": [
    "import re"
   ]
  },
  {
   "cell_type": "markdown",
   "id": "6644538d",
   "metadata": {},
   "source": [
    "findall()"
   ]
  },
  {
   "cell_type": "code",
   "execution_count": 5,
   "id": "5884312c",
   "metadata": {},
   "outputs": [
    {
     "data": {
      "text/plain": [
       "['a', 'a', 'a']"
      ]
     },
     "execution_count": 5,
     "metadata": {},
     "output_type": "execute_result"
    }
   ],
   "source": [
    "txt = \"a watermelon as melon\"\n",
    "x = re.findall(\"a\",txt)\n",
    "x"
   ]
  },
  {
   "cell_type": "code",
   "execution_count": 8,
   "id": "f428aa1a",
   "metadata": {},
   "outputs": [
    {
     "name": "stdout",
     "output_type": "stream",
     "text": [
      "['melon', 'melon']\n",
      "the matching is available\n"
     ]
    }
   ],
   "source": [
    "txt = \"a watermelon in melon\"\n",
    "x = re.findall(\"melon\",txt)\n",
    "print(x)\n",
    "if(x):\n",
    "    print(\"the matching is available\")\n",
    "else:\n",
    "    print(\"no match\")"
   ]
  },
  {
   "cell_type": "markdown",
   "id": "62c1de34",
   "metadata": {},
   "source": [
    "search()"
   ]
  },
  {
   "cell_type": "code",
   "execution_count": 15,
   "id": "caf44664",
   "metadata": {},
   "outputs": [
    {
     "name": "stdout",
     "output_type": "stream",
     "text": [
      "the first white-space character is located in position:  1\n"
     ]
    }
   ],
   "source": [
    "txt = \"a watermelon as melon\"\n",
    "x = re.search(\"\\s\",txt)\n",
    "print(\"the first white-space character is located in position: \",x.start())"
   ]
  },
  {
   "cell_type": "code",
   "execution_count": 18,
   "id": "33b6e681",
   "metadata": {},
   "outputs": [
    {
     "name": "stdout",
     "output_type": "stream",
     "text": [
      "None\n"
     ]
    }
   ],
   "source": [
    "txt = \"a watermelon as melon\"\n",
    "x = re.search(\"apple\",txt)\n",
    "print(x)"
   ]
  },
  {
   "cell_type": "markdown",
   "id": "af533cbd",
   "metadata": {},
   "source": [
    "split"
   ]
  },
  {
   "cell_type": "code",
   "execution_count": 20,
   "id": "e07ba067",
   "metadata": {},
   "outputs": [
    {
     "name": "stdout",
     "output_type": "stream",
     "text": [
      "['a', 'watermelon', 'as', 'melon']\n"
     ]
    }
   ],
   "source": [
    "txt = \"a watermelon as melon\"\n",
    "x = re.split(\"\\s\",txt)\n",
    "print(x)"
   ]
  },
  {
   "cell_type": "markdown",
   "id": "279fa69d",
   "metadata": {},
   "source": [
    "maxsplit()"
   ]
  },
  {
   "cell_type": "code",
   "execution_count": 24,
   "id": "cddcde77",
   "metadata": {},
   "outputs": [
    {
     "name": "stdout",
     "output_type": "stream",
     "text": [
      "['a', 'watermelon', 'as melon']\n"
     ]
    }
   ],
   "source": [
    "txt = \"a watermelon as melon\"\n",
    "x = re.split(\"\\s\",txt,2)\n",
    "print(x)"
   ]
  },
  {
   "cell_type": "markdown",
   "id": "f319b68b",
   "metadata": {},
   "source": [
    "sub()"
   ]
  },
  {
   "cell_type": "code",
   "execution_count": 25,
   "id": "039aa62e",
   "metadata": {},
   "outputs": [
    {
     "name": "stdout",
     "output_type": "stream",
     "text": [
      "a-watermelon-as-melon\n"
     ]
    }
   ],
   "source": [
    "txt = \"a watermelon as melon\"\n",
    "x = re.sub(\"\\s\",\"-\",txt)\n",
    "print(x)"
   ]
  },
  {
   "cell_type": "code",
   "execution_count": 27,
   "id": "46630d69",
   "metadata": {},
   "outputs": [
    {
     "name": "stdout",
     "output_type": "stream",
     "text": [
      "a-watermelon-as melon\n"
     ]
    }
   ],
   "source": [
    "txt = \"a watermelon as melon\"\n",
    "x = re.sub(\"\\s\",\"-\",txt,2)\n",
    "print(x)"
   ]
  },
  {
   "cell_type": "markdown",
   "id": "82126ac0",
   "metadata": {},
   "source": [
    "4.aggregate functions (numpy)"
   ]
  },
  {
   "cell_type": "code",
   "execution_count": 28,
   "id": "551fab12",
   "metadata": {},
   "outputs": [],
   "source": [
    "import numpy as np"
   ]
  },
  {
   "cell_type": "code",
   "execution_count": 33,
   "id": "bb822fa7",
   "metadata": {},
   "outputs": [
    {
     "name": "stdout",
     "output_type": "stream",
     "text": [
      "[19  8 19 16 11]\n"
     ]
    }
   ],
   "source": [
    "l = np.random.randint(2,20,5)\n",
    "print(l)"
   ]
  },
  {
   "cell_type": "markdown",
   "id": "93022cc0",
   "metadata": {},
   "source": [
    "one-dimensional array"
   ]
  },
  {
   "cell_type": "code",
   "execution_count": 36,
   "id": "3662701a",
   "metadata": {},
   "outputs": [
    {
     "name": "stdout",
     "output_type": "stream",
     "text": [
      "0\n",
      "3000\n"
     ]
    }
   ],
   "source": [
    "l = np.array([50,100,3000,25,0])\n",
    "e=np.min(l)\n",
    "f=np.max(l)\n",
    "print(e)\n",
    "print(f)"
   ]
  },
  {
   "cell_type": "markdown",
   "id": "b425381f",
   "metadata": {},
   "source": [
    "multi-dimensional array"
   ]
  },
  {
   "cell_type": "code",
   "execution_count": 37,
   "id": "dce25074",
   "metadata": {},
   "outputs": [
    {
     "name": "stdout",
     "output_type": "stream",
     "text": [
      "[[ 2  5 16]\n",
      " [ 1  8 12]\n",
      " [17 11  9]]\n"
     ]
    }
   ],
   "source": [
    "l = np.random.randint(0,20,(3,3))\n",
    "print(l)"
   ]
  },
  {
   "cell_type": "code",
   "execution_count": 38,
   "id": "011c0c74",
   "metadata": {},
   "outputs": [
    {
     "name": "stdout",
     "output_type": "stream",
     "text": [
      "81\n",
      "17\n",
      "1\n"
     ]
    }
   ],
   "source": [
    "e = l.sum()\n",
    "f = l.max()\n",
    "g = l.min()\n",
    "print(e)\n",
    "print(f)\n",
    "print(g)"
   ]
  },
  {
   "cell_type": "markdown",
   "id": "9b71a645",
   "metadata": {},
   "source": [
    "product()"
   ]
  },
  {
   "cell_type": "code",
   "execution_count": 41,
   "id": "3610986e",
   "metadata": {},
   "outputs": [
    {
     "name": "stdout",
     "output_type": "stream",
     "text": [
      "280\n"
     ]
    }
   ],
   "source": [
    "l = np.prod([[1,4],\n",
    "             [7,10]])\n",
    "print(l)"
   ]
  },
  {
   "cell_type": "markdown",
   "id": "a97caca4",
   "metadata": {},
   "source": [
    "mean()"
   ]
  },
  {
   "cell_type": "code",
   "execution_count": 42,
   "id": "0319c9b8",
   "metadata": {},
   "outputs": [
    {
     "data": {
      "text/plain": [
       "3.0"
      ]
     },
     "execution_count": 42,
     "metadata": {},
     "output_type": "execute_result"
    }
   ],
   "source": [
    "a = np.array([[1,4],[3,4]])\n",
    "np.mean(a)"
   ]
  },
  {
   "cell_type": "markdown",
   "id": "cdd4481c",
   "metadata": {},
   "source": [
    "var()"
   ]
  },
  {
   "cell_type": "code",
   "execution_count": 43,
   "id": "2733a0f7",
   "metadata": {},
   "outputs": [
    {
     "data": {
      "text/plain": [
       "1.25"
      ]
     },
     "execution_count": 43,
     "metadata": {},
     "output_type": "execute_result"
    }
   ],
   "source": [
    "a = np.array([[1,2],[3,4]])\n",
    "np.var(a)"
   ]
  },
  {
   "cell_type": "markdown",
   "id": "d20e400c",
   "metadata": {},
   "source": [
    "median()"
   ]
  },
  {
   "cell_type": "code",
   "execution_count": 44,
   "id": "897260a3",
   "metadata": {},
   "outputs": [
    {
     "data": {
      "text/plain": [
       "2.5"
      ]
     },
     "execution_count": 44,
     "metadata": {},
     "output_type": "execute_result"
    }
   ],
   "source": [
    "a = np.array([[1,2],[3,4]])\n",
    "np.median(a)"
   ]
  },
  {
   "cell_type": "code",
   "execution_count": 47,
   "id": "3798a70a",
   "metadata": {},
   "outputs": [
    {
     "name": "stdout",
     "output_type": "stream",
     "text": [
      "[1.15 1.18 1.21 1.24 1.27]\n"
     ]
    }
   ],
   "source": [
    "a = np.array([1,2,3,4])\n",
    "b = np.array([5,6,7,8,9])\n",
    "print(np.percentile(a,b))"
   ]
  },
  {
   "cell_type": "markdown",
   "id": "1f986b26",
   "metadata": {},
   "source": [
    "comparisons,masks and boolean array"
   ]
  },
  {
   "cell_type": "code",
   "execution_count": 48,
   "id": "5710209e",
   "metadata": {},
   "outputs": [],
   "source": [
    "import numpy as np\n",
    "import pandas as pd"
   ]
  },
  {
   "cell_type": "code",
   "execution_count": 50,
   "id": "a950620d",
   "metadata": {},
   "outputs": [],
   "source": [
    "x = np.array([1, 2, 3, 4, 5])"
   ]
  },
  {
   "cell_type": "code",
   "execution_count": 55,
   "id": "5ca7ca90",
   "metadata": {},
   "outputs": [
    {
     "data": {
      "text/plain": [
       "array([ True, False, False, False, False])"
      ]
     },
     "execution_count": 55,
     "metadata": {},
     "output_type": "execute_result"
    }
   ],
   "source": [
    "x < 2"
   ]
  },
  {
   "cell_type": "code",
   "execution_count": 53,
   "id": "8f6e0b46",
   "metadata": {},
   "outputs": [
    {
     "data": {
      "text/plain": [
       "array([False, False, False, False,  True])"
      ]
     },
     "execution_count": 53,
     "metadata": {},
     "output_type": "execute_result"
    }
   ],
   "source": [
    "x > 4"
   ]
  },
  {
   "cell_type": "code",
   "execution_count": 56,
   "id": "03770f21",
   "metadata": {},
   "outputs": [
    {
     "data": {
      "text/plain": [
       "array([False, False, False,  True,  True])"
      ]
     },
     "execution_count": 56,
     "metadata": {},
     "output_type": "execute_result"
    }
   ],
   "source": [
    "x >= 4"
   ]
  },
  {
   "cell_type": "code",
   "execution_count": 57,
   "id": "ba739555",
   "metadata": {},
   "outputs": [
    {
     "data": {
      "text/plain": [
       "array([ True,  True,  True, False, False])"
      ]
     },
     "execution_count": 57,
     "metadata": {},
     "output_type": "execute_result"
    }
   ],
   "source": [
    "x <= 3"
   ]
  },
  {
   "cell_type": "code",
   "execution_count": 58,
   "id": "b10b29f6",
   "metadata": {},
   "outputs": [
    {
     "data": {
      "text/plain": [
       "array([ True, False,  True,  True,  True])"
      ]
     },
     "execution_count": 58,
     "metadata": {},
     "output_type": "execute_result"
    }
   ],
   "source": [
    "x!= 2"
   ]
  },
  {
   "cell_type": "code",
   "execution_count": 59,
   "id": "7c05d612",
   "metadata": {},
   "outputs": [
    {
     "data": {
      "text/plain": [
       "array([False,  True, False, False, False])"
      ]
     },
     "execution_count": 59,
     "metadata": {},
     "output_type": "execute_result"
    }
   ],
   "source": [
    "x==2"
   ]
  },
  {
   "cell_type": "code",
   "execution_count": 61,
   "id": "66d7efa2",
   "metadata": {},
   "outputs": [
    {
     "data": {
      "text/plain": [
       "array([False,  True, False, False, False])"
      ]
     },
     "execution_count": 61,
     "metadata": {},
     "output_type": "execute_result"
    }
   ],
   "source": [
    "(2 * x) == (x ** 2)"
   ]
  },
  {
   "cell_type": "code",
   "execution_count": 63,
   "id": "2cd406e0",
   "metadata": {},
   "outputs": [
    {
     "data": {
      "text/plain": [
       "array([[5, 0, 3, 3],\n",
       "       [7, 9, 3, 5],\n",
       "       [2, 4, 7, 6]])"
      ]
     },
     "execution_count": 63,
     "metadata": {},
     "output_type": "execute_result"
    }
   ],
   "source": [
    "y=np.random.RandomState(0)\n",
    "x = y.randint(10, size=(3, 4))\n",
    "x"
   ]
  },
  {
   "cell_type": "code",
   "execution_count": 64,
   "id": "0e4c2bab",
   "metadata": {},
   "outputs": [
    {
     "data": {
      "text/plain": [
       "array([[ True,  True,  True,  True],\n",
       "       [False, False,  True,  True],\n",
       "       [ True,  True, False, False]])"
      ]
     },
     "execution_count": 64,
     "metadata": {},
     "output_type": "execute_result"
    }
   ],
   "source": [
    "x < 6"
   ]
  },
  {
   "cell_type": "code",
   "execution_count": 65,
   "id": "804c38e2",
   "metadata": {},
   "outputs": [
    {
     "name": "stdout",
     "output_type": "stream",
     "text": [
      "[[5 0 3 3]\n",
      " [7 9 3 5]\n",
      " [2 4 7 6]]\n"
     ]
    }
   ],
   "source": [
    "print(x)"
   ]
  },
  {
   "cell_type": "code",
   "execution_count": 67,
   "id": "28a71f12",
   "metadata": {},
   "outputs": [
    {
     "data": {
      "text/plain": [
       "2"
      ]
     },
     "execution_count": 67,
     "metadata": {},
     "output_type": "execute_result"
    }
   ],
   "source": [
    "np.count_nonzero(x < 3)"
   ]
  },
  {
   "cell_type": "code",
   "execution_count": 69,
   "id": "3af1518b",
   "metadata": {},
   "outputs": [
    {
     "data": {
      "text/plain": [
       "2"
      ]
     },
     "execution_count": 69,
     "metadata": {},
     "output_type": "execute_result"
    }
   ],
   "source": [
    "np.sum(x<3)"
   ]
  },
  {
   "cell_type": "code",
   "execution_count": 71,
   "id": "d43e3596",
   "metadata": {},
   "outputs": [
    {
     "data": {
      "text/plain": [
       "array([1, 0, 1])"
      ]
     },
     "execution_count": 71,
     "metadata": {},
     "output_type": "execute_result"
    }
   ],
   "source": [
    "np.sum(x < 3, axis=1)"
   ]
  },
  {
   "cell_type": "code",
   "execution_count": 73,
   "id": "253b491b",
   "metadata": {},
   "outputs": [
    {
     "data": {
      "text/plain": [
       "True"
      ]
     },
     "execution_count": 73,
     "metadata": {},
     "output_type": "execute_result"
    }
   ],
   "source": [
    "np.any(x>2)"
   ]
  },
  {
   "cell_type": "code",
   "execution_count": 74,
   "id": "ac4655f3",
   "metadata": {},
   "outputs": [
    {
     "data": {
      "text/plain": [
       "True"
      ]
     },
     "execution_count": 74,
     "metadata": {},
     "output_type": "execute_result"
    }
   ],
   "source": [
    "np.all(x < 10)"
   ]
  },
  {
   "cell_type": "code",
   "execution_count": 75,
   "id": "8710731d",
   "metadata": {},
   "outputs": [
    {
     "data": {
      "text/plain": [
       "False"
      ]
     },
     "execution_count": 75,
     "metadata": {},
     "output_type": "execute_result"
    }
   ],
   "source": [
    "np.all(x == 6)"
   ]
  },
  {
   "cell_type": "code",
   "execution_count": 76,
   "id": "5d50550c",
   "metadata": {},
   "outputs": [
    {
     "data": {
      "text/plain": [
       "array([ True, False,  True])"
      ]
     },
     "execution_count": 76,
     "metadata": {},
     "output_type": "execute_result"
    }
   ],
   "source": [
    "np.all(x < 8, axis=1)"
   ]
  },
  {
   "cell_type": "markdown",
   "id": "8b363972",
   "metadata": {},
   "source": [
    "boolean operators"
   ]
  },
  {
   "cell_type": "code",
   "execution_count": 86,
   "id": "0469b478",
   "metadata": {},
   "outputs": [
    {
     "ename": "SyntaxError",
     "evalue": "(unicode error) 'unicodeescape' codec can't decode bytes in position 2-3: truncated \\UXXXXXXXX escape (873305947.py, line 1)",
     "output_type": "error",
     "traceback": [
      "\u001b[1;36m  Input \u001b[1;32mIn [86]\u001b[1;36m\u001b[0m\n\u001b[1;33m    rainfall = pd.read_csv('C:\\Users\\Srimathi\\OneDrive\\Desktop\\New folder(2)\\archive\\weatherAUS.csv')['Rainfall'].values\u001b[0m\n\u001b[1;37m                                                                                                    ^\u001b[0m\n\u001b[1;31mSyntaxError\u001b[0m\u001b[1;31m:\u001b[0m (unicode error) 'unicodeescape' codec can't decode bytes in position 2-3: truncated \\UXXXXXXXX escape\n"
     ]
    }
   ],
   "source": [
    "rainfall = pd.read_csv('C:\\Users\\Srimathi\\OneDrive\\Desktop\\New folder(2)\\archive\\weatherAUS.csv')['Rainfall'].values\n",
    "print(rainfall)"
   ]
  },
  {
   "cell_type": "code",
   "execution_count": 88,
   "id": "9ff8d6c1",
   "metadata": {},
   "outputs": [
    {
     "data": {
      "text/plain": [
       "(True, False)"
      ]
     },
     "execution_count": 88,
     "metadata": {},
     "output_type": "execute_result"
    }
   ],
   "source": [
    "bool(20), bool(0)"
   ]
  },
  {
   "cell_type": "code",
   "execution_count": 90,
   "id": "f7f76593",
   "metadata": {},
   "outputs": [
    {
     "data": {
      "text/plain": [
       "False"
      ]
     },
     "execution_count": 90,
     "metadata": {},
     "output_type": "execute_result"
    }
   ],
   "source": [
    "bool(20 and 0)"
   ]
  },
  {
   "cell_type": "code",
   "execution_count": 91,
   "id": "a879568a",
   "metadata": {},
   "outputs": [
    {
     "data": {
      "text/plain": [
       "True"
      ]
     },
     "execution_count": 91,
     "metadata": {},
     "output_type": "execute_result"
    }
   ],
   "source": [
    "bool(20 or 0)"
   ]
  },
  {
   "cell_type": "code",
   "execution_count": 93,
   "id": "2fba999d",
   "metadata": {},
   "outputs": [
    {
     "data": {
      "text/plain": [
       "'0b10100'"
      ]
     },
     "execution_count": 93,
     "metadata": {},
     "output_type": "execute_result"
    }
   ],
   "source": [
    "bin(20)"
   ]
  },
  {
   "cell_type": "code",
   "execution_count": 94,
   "id": "6e8bd765",
   "metadata": {},
   "outputs": [
    {
     "data": {
      "text/plain": [
       "'0b11110'"
      ]
     },
     "execution_count": 94,
     "metadata": {},
     "output_type": "execute_result"
    }
   ],
   "source": [
    "bin(42 and 30)"
   ]
  },
  {
   "cell_type": "code",
   "execution_count": 96,
   "id": "4a3b7194",
   "metadata": {},
   "outputs": [
    {
     "data": {
      "text/plain": [
       "'0b11'"
      ]
     },
     "execution_count": 96,
     "metadata": {},
     "output_type": "execute_result"
    }
   ],
   "source": [
    "bin(4 and 3)"
   ]
  },
  {
   "cell_type": "markdown",
   "id": "a6de74a4",
   "metadata": {},
   "source": [
    "datatype should be mentioned to get similar output"
   ]
  },
  {
   "cell_type": "code",
   "execution_count": 98,
   "id": "d8a87f92",
   "metadata": {},
   "outputs": [
    {
     "data": {
      "text/plain": [
       "array([1, 1, 1, 0, 1, 1], dtype=int32)"
      ]
     },
     "execution_count": 98,
     "metadata": {},
     "output_type": "execute_result"
    }
   ],
   "source": [
    "A = np.array([1, 0, 1, 0, 1, 0])\n",
    "B = np.array([1, 1, 1, 0, 1, 1])\n",
    "A | B"
   ]
  },
  {
   "cell_type": "code",
   "execution_count": 99,
   "id": "9857d143",
   "metadata": {},
   "outputs": [
    {
     "data": {
      "text/plain": [
       "array([ True,  True,  True, False,  True,  True])"
      ]
     },
     "execution_count": 99,
     "metadata": {},
     "output_type": "execute_result"
    }
   ],
   "source": [
    "A = np.array([1, 0, 1, 0, 1, 0], dtype=bool)\n",
    "B = np.array([1, 1, 1, 0, 1, 1], dtype=bool)\n",
    "A | B"
   ]
  },
  {
   "cell_type": "code",
   "execution_count": 101,
   "id": "1ad6580a",
   "metadata": {},
   "outputs": [
    {
     "data": {
      "text/plain": [
       "array([False, False, False, False, False,  True,  True,  True, False,\n",
       "       False])"
      ]
     },
     "execution_count": 101,
     "metadata": {},
     "output_type": "execute_result"
    }
   ],
   "source": [
    "x = np.arange(10)\n",
    "(x > 4) & (x < 8)"
   ]
  }
 ],
 "metadata": {
  "kernelspec": {
   "display_name": "Python 3 (ipykernel)",
   "language": "python",
   "name": "python3"
  },
  "language_info": {
   "codemirror_mode": {
    "name": "ipython",
    "version": 3
   },
   "file_extension": ".py",
   "mimetype": "text/x-python",
   "name": "python",
   "nbconvert_exporter": "python",
   "pygments_lexer": "ipython3",
   "version": "3.9.12"
  }
 },
 "nbformat": 4,
 "nbformat_minor": 5
}
